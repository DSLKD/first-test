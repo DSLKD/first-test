{
  "nbformat": 4,
  "nbformat_minor": 0,
  "metadata": {
    "colab": {
      "provenance": [],
      "authorship_tag": "ABX9TyP00xUMFPTeSkt27M4QMBuq",
      "include_colab_link": true
    },
    "kernelspec": {
      "name": "python3",
      "display_name": "Python 3"
    },
    "language_info": {
      "name": "python"
    }
  },
  "cells": [
    {
      "cell_type": "markdown",
      "metadata": {
        "id": "view-in-github",
        "colab_type": "text"
      },
      "source": [
        "<a href=\"https://colab.research.google.com/github/DSLKD/first-test/blob/main/code.ipynb\" target=\"_parent\"><img src=\"https://colab.research.google.com/assets/colab-badge.svg\" alt=\"Open In Colab\"/></a>"
      ]
    },
    {
      "cell_type": "code",
      "source": [
        "%%writefile mycalc/calculator.py\n",
        "#calculator.py\n",
        "\n",
        "def add (x,y):\n",
        "  return x+y\n",
        "\n",
        "def subract(x,y):\n",
        "  return x-y"
      ],
      "metadata": {
        "id": "G47ryNOwSd6y",
        "colab": {
          "base_uri": "https://localhost:8080/"
        },
        "outputId": "ec29e84d-b263-42e7-858f-de707c548f86"
      },
      "execution_count": 1,
      "outputs": [
        {
          "output_type": "stream",
          "name": "stdout",
          "text": [
            "Writing mycalc/calculator.py\n"
          ]
        }
      ]
    },
    {
      "cell_type": "code",
      "source": [
        "%%writefile setup.py\n",
        "import setuptools\n",
        "\n",
        "setuptools.setup (\n",
        "    include_package_data = True,\n",
        "    name = 'jin',\n",
        "    version = '0.0.1',\n",
        "    author = 'min',\n",
        "    descripition = 'oss-dev my calculator 0001',\n",
        "    url = \"https://github.com/DSLKD/calc0001\",\n",
        "    download_url = \"https://github.com/DSLKD/calc0001/archive/refs/tags/v0.0.1.zip\",\n",
        "    package = [ 'mycalc' ],\n",
        "    classifiers= [\n",
        "        \"Programming Language :: Python :: 3\"\n",
        "    ]\n",
        ")\n"
      ],
      "metadata": {
        "id": "CLm3OX5xTnlC",
        "colab": {
          "base_uri": "https://localhost:8080/"
        },
        "outputId": "d5306b6c-18b7-4588-ea41-ed43a013eede"
      },
      "execution_count": 11,
      "outputs": [
        {
          "output_type": "stream",
          "name": "stdout",
          "text": [
            "Writing setup.py\n"
          ]
        }
      ]
    },
    {
      "cell_type": "code",
      "source": [
        "!python setup.py bdist_wheel\n"
      ],
      "metadata": {
        "colab": {
          "base_uri": "https://localhost:8080/"
        },
        "id": "XjAPRnQWYX3K",
        "outputId": "2ed11896-2945-4f70-93a8-79cd31864ebb"
      },
      "execution_count": 12,
      "outputs": [
        {
          "output_type": "stream",
          "name": "stdout",
          "text": [
            "/usr/lib/python3.9/distutils/dist.py:274: UserWarning: Unknown distribution option: 'descripition'\n",
            "  warnings.warn(msg)\n",
            "/usr/lib/python3.9/distutils/dist.py:274: UserWarning: Unknown distribution option: 'package'\n",
            "  warnings.warn(msg)\n",
            "error: Multiple top-level packages discovered in a flat-layout: ['mycalc', 'sample_data'].\n",
            "\n",
            "To avoid accidental inclusion of unwanted files or directories,\n",
            "setuptools will not proceed with this build.\n",
            "\n",
            "If you are trying to create a single distribution with multiple packages\n",
            "on purpose, you should not rely on automatic discovery.\n",
            "Instead, consider the following options:\n",
            "\n",
            "1. set up custom discovery (`find` directive with `include` or `exclude`)\n",
            "2. use a `src-layout`\n",
            "3. explicitly set `py_modules` or `packages` with a list of names\n",
            "\n",
            "To find more information, look for \"package discovery\" on setuptools docs.\n"
          ]
        }
      ]
    },
    {
      "cell_type": "code",
      "source": [
        "!pip install twine"
      ],
      "metadata": {
        "id": "H7E3D92uXZmj"
      },
      "execution_count": null,
      "outputs": []
    },
    {
      "cell_type": "code",
      "source": [
        "!pip install wheel"
      ],
      "metadata": {
        "id": "VAVZY0F7WCON"
      },
      "execution_count": null,
      "outputs": []
    }
  ]
}