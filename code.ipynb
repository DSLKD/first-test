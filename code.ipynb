{
  "nbformat": 4,
  "nbformat_minor": 0,
  "metadata": {
    "colab": {
      "provenance": [],
      "authorship_tag": "ABX9TyNYNQRlm7VJBtLnW2Ec0oTy",
      "include_colab_link": true
    },
    "kernelspec": {
      "name": "python3",
      "display_name": "Python 3"
    },
    "language_info": {
      "name": "python"
    }
  },
  "cells": [
    {
      "cell_type": "markdown",
      "metadata": {
        "id": "view-in-github",
        "colab_type": "text"
      },
      "source": [
        "<a href=\"https://colab.research.google.com/github/DSLKD/first-test/blob/main/code.ipynb\" target=\"_parent\"><img src=\"https://colab.research.google.com/assets/colab-badge.svg\" alt=\"Open In Colab\"/></a>"
      ]
    },
    {
      "cell_type": "code",
      "source": [
        "%%writefile mycalc/calculator.py\n",
        "#calculator.py\n",
        "\n",
        "def add (x,y):\n",
        "  return x+y\n",
        "\n",
        "def subract(x,y):\n",
        "  return x-y"
      ],
      "metadata": {
        "id": "G47ryNOwSd6y",
        "colab": {
          "base_uri": "https://localhost:8080/"
        },
        "outputId": "ec29e84d-b263-42e7-858f-de707c548f86"
      },
      "execution_count": null,
      "outputs": [
        {
          "output_type": "stream",
          "name": "stdout",
          "text": [
            "Writing mycalc/calculator.py\n"
          ]
        }
      ]
    },
    {
      "cell_type": "code",
      "source": [
        "%%writefile setup.py\n",
        "import setuptools\n",
        "\n",
        "setuptools.setup (\n",
        "    include_package_data = True,\n",
        "    name = 'jin',\n",
        "    version = '0.0.1',\n",
        "    author = 'min',\n",
        "    descripition = 'oss-dev my calculator 0001',\n",
        "    url = \"https://github.com/DSLKD/calc0001\",\n",
        "    download_url = \"https://github.com/DSLKD/calc0001/archive/refs/tags/v0.0.1.zip\",\n",
        "    package = [ 'mycalc' ],\n",
        "    classifiers= [\n",
        "        \"Programming Language :: Python :: 3\"\n",
        "    ]\n",
        ")\n"
      ],
      "metadata": {
        "id": "CLm3OX5xTnlC",
        "colab": {
          "base_uri": "https://localhost:8080/"
        },
        "outputId": "33ac31b8-3c9d-4d90-db46-8db51fcc2d24"
      },
      "execution_count": 19,
      "outputs": [
        {
          "output_type": "stream",
          "name": "stdout",
          "text": [
            "Overwriting setup.py\n"
          ]
        }
      ]
    },
    {
      "cell_type": "code",
      "source": [
        "!python setup.py bdist_wheel\n"
      ],
      "metadata": {
        "colab": {
          "base_uri": "https://localhost:8080/"
        },
        "id": "XjAPRnQWYX3K",
        "outputId": "3a9a1cb8-64ef-4b9a-d815-60183a5b3707"
      },
      "execution_count": 24,
      "outputs": [
        {
          "output_type": "stream",
          "name": "stdout",
          "text": [
            "/usr/lib/python3.9/distutils/dist.py:274: UserWarning: Unknown distribution option: 'descripition'\n",
            "  warnings.warn(msg)\n",
            "/usr/lib/python3.9/distutils/dist.py:274: UserWarning: Unknown distribution option: 'package'\n",
            "  warnings.warn(msg)\n",
            "error: Multiple top-level packages discovered in a flat-layout: ['mycalc', 'sample_data'].\n",
            "\n",
            "To avoid accidental inclusion of unwanted files or directories,\n",
            "setuptools will not proceed with this build.\n",
            "\n",
            "If you are trying to create a single distribution with multiple packages\n",
            "on purpose, you should not rely on automatic discovery.\n",
            "Instead, consider the following options:\n",
            "\n",
            "1. set up custom discovery (`find` directive with `include` or `exclude`)\n",
            "2. use a `src-layout`\n",
            "3. explicitly set `py_modules` or `packages` with a list of names\n",
            "\n",
            "To find more information, look for \"package discovery\" on setuptools docs.\n"
          ]
        }
      ]
    },
    {
      "cell_type": "code",
      "source": [
        "from setuptools import setup\n"
      ],
      "metadata": {
        "id": "eCT2Bzd7a-74"
      },
      "execution_count": 23,
      "outputs": []
    },
    {
      "cell_type": "code",
      "source": [
        "!pip install twine"
      ],
      "metadata": {
        "colab": {
          "base_uri": "https://localhost:8080/"
        },
        "id": "H7E3D92uXZmj",
        "outputId": "031a5fd2-96da-4b18-9727-9470fb9c7553"
      },
      "execution_count": 21,
      "outputs": [
        {
          "output_type": "stream",
          "name": "stdout",
          "text": [
            "Looking in indexes: https://pypi.org/simple, https://us-python.pkg.dev/colab-wheels/public/simple/\n",
            "Requirement already satisfied: twine in /usr/local/lib/python3.9/dist-packages (4.0.2)\n",
            "Requirement already satisfied: rich>=12.0.0 in /usr/local/lib/python3.9/dist-packages (from twine) (13.3.3)\n",
            "Requirement already satisfied: urllib3>=1.26.0 in /usr/local/lib/python3.9/dist-packages (from twine) (1.26.15)\n",
            "Requirement already satisfied: rfc3986>=1.4.0 in /usr/local/lib/python3.9/dist-packages (from twine) (2.0.0)\n",
            "Requirement already satisfied: importlib-metadata>=3.6 in /usr/local/lib/python3.9/dist-packages (from twine) (6.1.0)\n",
            "Requirement already satisfied: requests>=2.20 in /usr/local/lib/python3.9/dist-packages (from twine) (2.27.1)\n",
            "Requirement already satisfied: readme-renderer>=35.0 in /usr/local/lib/python3.9/dist-packages (from twine) (37.3)\n",
            "Requirement already satisfied: requests-toolbelt!=0.9.0,>=0.8.0 in /usr/local/lib/python3.9/dist-packages (from twine) (0.10.1)\n",
            "Requirement already satisfied: keyring>=15.1 in /usr/local/lib/python3.9/dist-packages (from twine) (23.13.1)\n",
            "Requirement already satisfied: pkginfo>=1.8.1 in /usr/local/lib/python3.9/dist-packages (from twine) (1.9.6)\n",
            "Requirement already satisfied: zipp>=0.5 in /usr/local/lib/python3.9/dist-packages (from importlib-metadata>=3.6->twine) (3.15.0)\n",
            "Requirement already satisfied: jeepney>=0.4.2 in /usr/local/lib/python3.9/dist-packages (from keyring>=15.1->twine) (0.8.0)\n",
            "Requirement already satisfied: SecretStorage>=3.2 in /usr/local/lib/python3.9/dist-packages (from keyring>=15.1->twine) (3.3.3)\n",
            "Requirement already satisfied: jaraco.classes in /usr/local/lib/python3.9/dist-packages (from keyring>=15.1->twine) (3.2.3)\n",
            "Requirement already satisfied: Pygments>=2.5.1 in /usr/local/lib/python3.9/dist-packages (from readme-renderer>=35.0->twine) (2.14.0)\n",
            "Requirement already satisfied: bleach>=2.1.0 in /usr/local/lib/python3.9/dist-packages (from readme-renderer>=35.0->twine) (6.0.0)\n",
            "Requirement already satisfied: docutils>=0.13.1 in /usr/local/lib/python3.9/dist-packages (from readme-renderer>=35.0->twine) (0.16)\n",
            "Requirement already satisfied: idna<4,>=2.5 in /usr/local/lib/python3.9/dist-packages (from requests>=2.20->twine) (3.4)\n",
            "Requirement already satisfied: charset-normalizer~=2.0.0 in /usr/local/lib/python3.9/dist-packages (from requests>=2.20->twine) (2.0.12)\n",
            "Requirement already satisfied: certifi>=2017.4.17 in /usr/local/lib/python3.9/dist-packages (from requests>=2.20->twine) (2022.12.7)\n",
            "Requirement already satisfied: markdown-it-py<3.0.0,>=2.2.0 in /usr/local/lib/python3.9/dist-packages (from rich>=12.0.0->twine) (2.2.0)\n",
            "Requirement already satisfied: webencodings in /usr/local/lib/python3.9/dist-packages (from bleach>=2.1.0->readme-renderer>=35.0->twine) (0.5.1)\n",
            "Requirement already satisfied: six>=1.9.0 in /usr/local/lib/python3.9/dist-packages (from bleach>=2.1.0->readme-renderer>=35.0->twine) (1.16.0)\n",
            "Requirement already satisfied: mdurl~=0.1 in /usr/local/lib/python3.9/dist-packages (from markdown-it-py<3.0.0,>=2.2.0->rich>=12.0.0->twine) (0.1.2)\n",
            "Requirement already satisfied: cryptography>=2.0 in /usr/local/lib/python3.9/dist-packages (from SecretStorage>=3.2->keyring>=15.1->twine) (40.0.1)\n",
            "Requirement already satisfied: more-itertools in /usr/local/lib/python3.9/dist-packages (from jaraco.classes->keyring>=15.1->twine) (9.1.0)\n",
            "Requirement already satisfied: cffi>=1.12 in /usr/local/lib/python3.9/dist-packages (from cryptography>=2.0->SecretStorage>=3.2->keyring>=15.1->twine) (1.15.1)\n",
            "Requirement already satisfied: pycparser in /usr/local/lib/python3.9/dist-packages (from cffi>=1.12->cryptography>=2.0->SecretStorage>=3.2->keyring>=15.1->twine) (2.21)\n"
          ]
        }
      ]
    },
    {
      "cell_type": "code",
      "source": [
        "!twine upload -u sssdffs -p whdudwls0417 dist/mycalc-0.0.1-py3-none-any.whl"
      ],
      "metadata": {
        "colab": {
          "base_uri": "https://localhost:8080/"
        },
        "id": "aJY8vhVNZFgt",
        "outputId": "9f7fcbdc-0b63-4481-af1b-23d7eed77797"
      },
      "execution_count": 25,
      "outputs": [
        {
          "output_type": "stream",
          "name": "stdout",
          "text": [
            "\u001b[31mERROR   \u001b[0m InvalidDistribution: Cannot find file (or expand pattern):             \n",
            "         'dist/mycalc-0.0.1-py3-none-any.whl'                                   \n"
          ]
        }
      ]
    },
    {
      "cell_type": "code",
      "source": [
        "!pip install wheel"
      ],
      "metadata": {
        "id": "VAVZY0F7WCON",
        "colab": {
          "base_uri": "https://localhost:8080/"
        },
        "outputId": "ed2322e0-fbf3-4fc6-9d73-cf194a83c1e6"
      },
      "execution_count": 17,
      "outputs": [
        {
          "output_type": "stream",
          "name": "stdout",
          "text": [
            "Looking in indexes: https://pypi.org/simple, https://us-python.pkg.dev/colab-wheels/public/simple/\n",
            "Requirement already satisfied: wheel in /usr/local/lib/python3.9/dist-packages (0.40.0)\n"
          ]
        }
      ]
    }
  ]
}